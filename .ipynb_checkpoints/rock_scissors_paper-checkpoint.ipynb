{
 "cells": [
  {
   "cell_type": "code",
   "execution_count": 3,
   "id": "6ef5d1cb-adc4-436e-885c-5bb088dc675f",
   "metadata": {},
   "outputs": [
    {
     "name": "stdout",
     "output_type": "stream",
     "text": [
      "\n",
      "\u001b[1;4mRock, Scissors, Paper\u001b[0m\n",
      "\n"
     ]
    },
    {
     "name": "stdin",
     "output_type": "stream",
     "text": [
      "\n",
      "    Game Start...\n",
      "    1. Yes | play Game\n",
      "    2. No | Exit Game \n",
      "    Enter Your Choice 3\n"
     ]
    },
    {
     "name": "stdout",
     "output_type": "stream",
     "text": [
      "\n",
      "Invalid Choice\n",
      "\n",
      "\n",
      "\u001b[1;4mRock, Scissors, Paper\u001b[0m\n",
      "\n"
     ]
    },
    {
     "name": "stdin",
     "output_type": "stream",
     "text": [
      "\n",
      "    Game Start...\n",
      "    1. Yes | play Game\n",
      "    2. No | Exit Game \n",
      "    Enter Your Choice 2\n"
     ]
    },
    {
     "name": "stdout",
     "output_type": "stream",
     "text": [
      "Thanks For Playing...\n"
     ]
    }
   ],
   "source": [
    "# scenario for user win\n",
    "# user  vs  comp  -> user win\n",
    "# rock vs scissor -> rock win\n",
    "# paper vs rock -> paper win\n",
    "# scissor vs paper -> scissor win\n",
    "\n",
    "import random\n",
    "\n",
    "compList = [\"rock\", \"scissors\", \"paper\"]\n",
    "\n",
    "while True:\n",
    "    print(\"\\n\\033[1;4mRock, Scissors, Paper\\033[0m\\n\")\n",
    "\n",
    "    userPoint = 0;\n",
    "    compPoint = 0;\n",
    "    \n",
    "    userChoice = int(input(\"\"\"\n",
    "    Game Start...\n",
    "    1. Yes | play Game\n",
    "    2. No | Exit Game \n",
    "    Enter Your Choice\"\"\"))\n",
    "\n",
    "    if userChoice == 1:\n",
    "        round_num = 1\n",
    "        while round_num <= 5:\n",
    "            userInp = int(input(\"\"\" \n",
    "            1. Rock\n",
    "            2. Scissors\n",
    "            3. Paper\n",
    "            Enter Your Choice: \"\"\"))\n",
    "\n",
    "            if userInp == 1:\n",
    "                userPick = 'rock'\n",
    "            elif userInp == 2:\n",
    "                userPick = 'scissors'\n",
    "            elif userInp == 3:\n",
    "                userPick = 'paper'\n",
    "            else:\n",
    "                print(\"\\n\" + \"=\"*50)\n",
    "                print(\"\\033[1;4;33m\" + \"   Invalid Choice please Select correct choice   \" + \"\\033[0m\")\n",
    "                print(\"=\"*50 + \"\\n\")\n",
    "                continue\n",
    "\n",
    "            compPick = random.choice(compList)\n",
    "            if compPick == userPick:\n",
    "                compPoint += 1;\n",
    "                userPoint += 1;\n",
    "                print(f\"You picked: \\033[1;36m{userPick}\\033[0m \\nOpponent picked: \\033[1;35m{compPick}\\033[0m\")\n",
    "                print(\"Round Draw\")\n",
    "                \n",
    "            elif (userPick == 'rock' and compPick == 'scissors') or (userPick == 'paper' and compPick == 'rock') or (userPick == 'scissors' and compPick == 'paper'):\n",
    "                userPoint += 1;\n",
    "                print(f\"You picked: \\033[1;36m{userPick}\\033[0m \\nOpponent picked: \\033[1;35m{compPick}\\033[0m\")\n",
    "                print('You Win This Round')\n",
    "            \n",
    "            else:\n",
    "                compPoint += 1;\n",
    "                print(f\"You picked: \\033[1;36m{userPick}\\033[0m \\nOpponent picked: \\033[1;35m{compPick}\\033[0m\")\n",
    "                print('Opponent Win This Round')\n",
    "\n",
    "            round_num += 1\n",
    "\n",
    "        print(\"\\n\" + \"=\"*50)\n",
    "        if userPoint > compPoint:\n",
    "            print(\"\\033[1;4;32m\" + f\"Congratulation You won the game And Your Points: {userPoint}\" + \"\\033[0m\")\n",
    "        \n",
    "        elif userPoint == compPoint:\n",
    "            print(f\"Your Point: {userPoint}\\nOpponent Points: {compPoint}\")\n",
    "            print(\"\\033[1;4;33m\" + f\"Game Draw...\" + \"\\033[0m\")\n",
    "        \n",
    "        else:\n",
    "            print(\"\\033[1;4;31m\" f\"Oop's Better Luck for Next time Opponent win This Match Opponent Points: {compPoint}\" + \"\\033[0m\")\n",
    "        print(\"=\"*50 + \"\\n\")\n",
    "\n",
    "    elif userChoice == 2:\n",
    "        print(\"Thanks For Playing...\")\n",
    "        break;\n",
    "    \n",
    "    else:\n",
    "        print(\"\\n\" + \"=\"*30)\n",
    "        print(\"\\033[1;4;31m\" + \"   INVALID CHOICE   \" + \"\\033[0m\")\n",
    "        print(\"=\"*30 + \"\\n\")\n"
   ]
  },
  {
   "cell_type": "code",
   "execution_count": null,
   "id": "02666dbb-ac20-4541-87c6-d473ab2b91ce",
   "metadata": {},
   "outputs": [],
   "source": []
  }
 ],
 "metadata": {
  "kernelspec": {
   "display_name": "Python [conda env:base] *",
   "language": "python",
   "name": "conda-base-py"
  },
  "language_info": {
   "codemirror_mode": {
    "name": "ipython",
    "version": 3
   },
   "file_extension": ".py",
   "mimetype": "text/x-python",
   "name": "python",
   "nbconvert_exporter": "python",
   "pygments_lexer": "ipython3",
   "version": "3.13.5"
  }
 },
 "nbformat": 4,
 "nbformat_minor": 5
}
